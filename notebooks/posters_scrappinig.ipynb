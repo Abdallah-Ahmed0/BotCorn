{
 "cells": [
  {
   "cell_type": "code",
   "execution_count": 1,
   "metadata": {},
   "outputs": [],
   "source": [
    "import pandas as pd\n",
    "import requests\n",
    "import time\n",
    "from tqdm import tqdm\n",
    "from dotenv import load_dotenv\n",
    "import os"
   ]
  },
  {
   "cell_type": "code",
   "execution_count": 14,
   "metadata": {},
   "outputs": [],
   "source": [
    "load_dotenv()\n",
    "TMDB_API_KEY = os.getenv(\"TMDB_API_KEY\")"
   ]
  },
  {
   "cell_type": "code",
   "execution_count": 17,
   "metadata": {},
   "outputs": [],
   "source": [
    "IMAGE_BASE_URL = \"https://image.tmdb.org/t/p/w500\""
   ]
  },
  {
   "cell_type": "code",
   "execution_count": 18,
   "metadata": {},
   "outputs": [],
   "source": [
    "def get_poster_url(title):\n",
    "    search_url = \"https://api.themoviedb.org/3/search/movie\"\n",
    "    params = {\n",
    "        \"api_key\": TMDB_API_KEY,\n",
    "        \"query\": title\n",
    "    }\n",
    "\n",
    "    try:\n",
    "        response = requests.get(search_url, params=params)\n",
    "        data = response.json()\n",
    "        results = data.get(\"results\")\n",
    "        if results:\n",
    "            poster_path = results[0].get(\"poster_path\")\n",
    "            if poster_path:\n",
    "                return IMAGE_BASE_URL + poster_path\n",
    "    except Exception as e:\n",
    "        print(f\"Error fetching poster for '{title}': {e}\")\n",
    "    return None"
   ]
  },
  {
   "cell_type": "code",
   "execution_count": 19,
   "metadata": {},
   "outputs": [
    {
     "name": "stderr",
     "output_type": "stream",
     "text": [
      "Fetching posters: 100%|██████████| 9006/9006 [1:06:36<00:00,  2.25it/s]\n"
     ]
    }
   ],
   "source": [
    "movies = pd.read_csv(\"../data/movies_cleaned_with_genres.csv\")\n",
    "\n",
    "tqdm.pandas(desc=\"Fetching posters\")\n",
    "\n",
    "movies[\"poster_url\"] = movies[\"original_title\"].progress_apply(get_poster_url)\n"
   ]
  },
  {
   "cell_type": "code",
   "execution_count": 21,
   "metadata": {},
   "outputs": [
    {
     "data": {
      "text/plain": [
       "'https://image.tmdb.org/t/p/w500/9cqNxx0GxF0bflZmeSMuL5tnGzr.jpg'"
      ]
     },
     "execution_count": 21,
     "metadata": {},
     "output_type": "execute_result"
    }
   ],
   "source": [
    "movies[\"poster_url\"][1]"
   ]
  },
  {
   "cell_type": "code",
   "execution_count": 22,
   "metadata": {},
   "outputs": [],
   "source": [
    "movies.to_csv(\"../data/movies_with_posters.csv\", index=False)"
   ]
  },
  {
   "cell_type": "code",
   "execution_count": null,
   "metadata": {},
   "outputs": [],
   "source": []
  }
 ],
 "metadata": {
  "kernelspec": {
   "display_name": "base",
   "language": "python",
   "name": "python3"
  },
  "language_info": {
   "codemirror_mode": {
    "name": "ipython",
    "version": 3
   },
   "file_extension": ".py",
   "mimetype": "text/x-python",
   "name": "python",
   "nbconvert_exporter": "python",
   "pygments_lexer": "ipython3",
   "version": "3.12.7"
  }
 },
 "nbformat": 4,
 "nbformat_minor": 2
}
